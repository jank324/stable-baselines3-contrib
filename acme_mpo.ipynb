{
 "cells": [
  {
   "cell_type": "markdown",
   "metadata": {},
   "source": [
    "Example running MPO on continuous control tasks.\n"
   ]
  },
  {
   "cell_type": "code",
   "execution_count": 1,
   "metadata": {},
   "outputs": [
    {
     "ename": "ModuleNotFoundError",
     "evalue": "No module named 'launchpad'",
     "output_type": "error",
     "traceback": [
      "\u001b[0;31m---------------------------------------------------------------------------\u001b[0m",
      "\u001b[0;31mModuleNotFoundError\u001b[0m                       Traceback (most recent call last)",
      "\u001b[1;32m/Users/jankaiser/Documents/DESY/stable-baselines3-contrib/acme_mpo.ipynb Cell 2\u001b[0m line \u001b[0;36m2\n\u001b[1;32m      <a href='vscode-notebook-cell:/Users/jankaiser/Documents/DESY/stable-baselines3-contrib/acme_mpo.ipynb#W1sZmlsZQ%3D%3D?line=0'>1</a>\u001b[0m \u001b[39mfrom\u001b[39;00m \u001b[39mabsl\u001b[39;00m \u001b[39mimport\u001b[39;00m flags\n\u001b[0;32m----> <a href='vscode-notebook-cell:/Users/jankaiser/Documents/DESY/stable-baselines3-contrib/acme_mpo.ipynb#W1sZmlsZQ%3D%3D?line=1'>2</a>\u001b[0m \u001b[39mfrom\u001b[39;00m \u001b[39macme\u001b[39;00m \u001b[39mimport\u001b[39;00m specs\n\u001b[1;32m      <a href='vscode-notebook-cell:/Users/jankaiser/Documents/DESY/stable-baselines3-contrib/acme_mpo.ipynb#W1sZmlsZQ%3D%3D?line=2'>3</a>\u001b[0m \u001b[39mfrom\u001b[39;00m \u001b[39macme\u001b[39;00m\u001b[39m.\u001b[39;00m\u001b[39magents\u001b[39;00m\u001b[39m.\u001b[39;00m\u001b[39mjax\u001b[39;00m \u001b[39mimport\u001b[39;00m mpo\n\u001b[1;32m      <a href='vscode-notebook-cell:/Users/jankaiser/Documents/DESY/stable-baselines3-contrib/acme_mpo.ipynb#W1sZmlsZQ%3D%3D?line=3'>4</a>\u001b[0m \u001b[39mfrom\u001b[39;00m \u001b[39macme\u001b[39;00m\u001b[39m.\u001b[39;00m\u001b[39magents\u001b[39;00m\u001b[39m.\u001b[39;00m\u001b[39mjax\u001b[39;00m\u001b[39m.\u001b[39;00m\u001b[39mmpo\u001b[39;00m \u001b[39mimport\u001b[39;00m types \u001b[39mas\u001b[39;00m mpo_types\n",
      "File \u001b[0;32m/opt/homebrew/Caskroom/miniforge/base/envs/stable-baselines3-contrib/lib/python3.9/site-packages/acme/__init__.py:34\u001b[0m\n\u001b[1;32m     31\u001b[0m \u001b[39mfrom\u001b[39;00m \u001b[39macme\u001b[39;00m\u001b[39m.\u001b[39;00m\u001b[39mcore\u001b[39;00m \u001b[39mimport\u001b[39;00m Worker\n\u001b[1;32m     33\u001b[0m \u001b[39m# Expose the environment loop.\u001b[39;00m\n\u001b[0;32m---> 34\u001b[0m \u001b[39mfrom\u001b[39;00m \u001b[39macme\u001b[39;00m\u001b[39m.\u001b[39;00m\u001b[39menvironment_loop\u001b[39;00m \u001b[39mimport\u001b[39;00m EnvironmentLoop\n\u001b[1;32m     36\u001b[0m \u001b[39mfrom\u001b[39;00m \u001b[39macme\u001b[39;00m\u001b[39m.\u001b[39;00m\u001b[39mspecs\u001b[39;00m \u001b[39mimport\u001b[39;00m make_environment_spec\n",
      "File \u001b[0;32m/opt/homebrew/Caskroom/miniforge/base/envs/stable-baselines3-contrib/lib/python3.9/site-packages/acme/environment_loop.py:25\u001b[0m\n\u001b[1;32m     23\u001b[0m \u001b[39mfrom\u001b[39;00m \u001b[39macme\u001b[39;00m\u001b[39m.\u001b[39;00m\u001b[39mutils\u001b[39;00m \u001b[39mimport\u001b[39;00m loggers\n\u001b[1;32m     24\u001b[0m \u001b[39mfrom\u001b[39;00m \u001b[39macme\u001b[39;00m\u001b[39m.\u001b[39;00m\u001b[39mutils\u001b[39;00m \u001b[39mimport\u001b[39;00m observers \u001b[39mas\u001b[39;00m observers_lib\n\u001b[0;32m---> 25\u001b[0m \u001b[39mfrom\u001b[39;00m \u001b[39macme\u001b[39;00m\u001b[39m.\u001b[39;00m\u001b[39mutils\u001b[39;00m \u001b[39mimport\u001b[39;00m signals\n\u001b[1;32m     27\u001b[0m \u001b[39mimport\u001b[39;00m \u001b[39mdm_env\u001b[39;00m\n\u001b[1;32m     28\u001b[0m \u001b[39mfrom\u001b[39;00m \u001b[39mdm_env\u001b[39;00m \u001b[39mimport\u001b[39;00m specs\n",
      "File \u001b[0;32m/opt/homebrew/Caskroom/miniforge/base/envs/stable-baselines3-contrib/lib/python3.9/site-packages/acme/utils/signals.py:22\u001b[0m\n\u001b[1;32m     19\u001b[0m \u001b[39mimport\u001b[39;00m \u001b[39mthreading\u001b[39;00m\n\u001b[1;32m     20\u001b[0m \u001b[39mfrom\u001b[39;00m \u001b[39mtyping\u001b[39;00m \u001b[39mimport\u001b[39;00m Any, Callable, Optional\n\u001b[0;32m---> 22\u001b[0m \u001b[39mimport\u001b[39;00m \u001b[39mlaunchpad\u001b[39;00m\n\u001b[1;32m     24\u001b[0m _Handler \u001b[39m=\u001b[39m Callable[[], Any]\n\u001b[1;32m     27\u001b[0m \u001b[39m@contextlib\u001b[39m\u001b[39m.\u001b[39mcontextmanager\n\u001b[1;32m     28\u001b[0m \u001b[39mdef\u001b[39;00m \u001b[39mruntime_terminator\u001b[39m(callback: Optional[_Handler] \u001b[39m=\u001b[39m \u001b[39mNone\u001b[39;00m):\n",
      "\u001b[0;31mModuleNotFoundError\u001b[0m: No module named 'launchpad'"
     ]
    }
   ],
   "source": [
    "from absl import flags\n",
    "from acme import specs\n",
    "from acme.agents.jax import mpo\n",
    "from acme.agents.jax.mpo import types as mpo_types\n",
    "import helpers\n",
    "from absl import app\n",
    "from acme.jax import experiments\n",
    "from acme.utils import lp_utils\n",
    "import launchpad as lp\n"
   ]
  },
  {
   "cell_type": "code",
   "execution_count": null,
   "metadata": {},
   "outputs": [],
   "source": [
    "RUN_DISTRIBUTED = flags.DEFINE_bool(\n",
    "    \"run_distributed\",\n",
    "    True,\n",
    "    (\n",
    "        \"Should an agent be executed in a distributed way. If False, will run\"\n",
    "        \" single-threaded.\"\n",
    "    ),\n",
    ")\n",
    "ENV_NAME = flags.DEFINE_string(\n",
    "    \"env_name\",\n",
    "    \"gym:HalfCheetah-v2\",\n",
    "    (\n",
    "        \"What environment to run on, in the format {gym|control}:{task}, \"\n",
    "        'where \"control\" refers to the DM control suite. DM Control tasks are '\n",
    "        \"further split into {domain_name}:{task_name}.\"\n",
    "    ),\n",
    ")\n",
    "SEED = flags.DEFINE_integer(\"seed\", 0, \"Random seed.\")\n",
    "NUM_STEPS = flags.DEFINE_integer(\n",
    "    \"num_steps\", 1_000_000, \"Number of environment steps to run the experiment for.\"\n",
    ")\n",
    "EVAL_EVERY = flags.DEFINE_integer(\n",
    "    \"eval_every\",\n",
    "    50_000,\n",
    "    \"How often (in actor environment steps) to run evaluation episodes.\",\n",
    ")\n",
    "EVAL_EPISODES = flags.DEFINE_integer(\n",
    "    \"evaluation_episodes\", 10, \"Number of evaluation episodes to run periodically.\"\n",
    ")\n",
    "\n",
    "\n",
    "def build_experiment_config():\n",
    "    \"\"\"Builds MPO experiment config which can be executed in different ways.\"\"\"\n",
    "    suite, task = ENV_NAME.value.split(\":\", 1)\n",
    "    critic_type = mpo.CriticType.NONDISTRIBUTIONAL\n",
    "\n",
    "    def network_factory(spec: specs.EnvironmentSpec) -> mpo.MPONetworks:\n",
    "        return mpo.make_control_networks(\n",
    "            spec,\n",
    "            policy_layer_sizes=(256, 256, 256),\n",
    "            critic_layer_sizes=(256, 256, 256),\n",
    "            policy_init_scale=0.5,\n",
    "            critic_type=critic_type,\n",
    "        )\n",
    "\n",
    "    # Configure and construct the agent builder.\n",
    "    config = mpo.MPOConfig(\n",
    "        critic_type=critic_type,\n",
    "        policy_loss_config=mpo_types.GaussianPolicyLossConfig(epsilon_mean=0.01),\n",
    "        samples_per_insert=64,\n",
    "        learning_rate=3e-4,\n",
    "        experience_type=mpo_types.FromTransitions(n_step=4),\n",
    "    )\n",
    "    agent_builder = mpo.MPOBuilder(config, sgd_steps_per_learner_step=1)\n",
    "\n",
    "    return experiments.ExperimentConfig(\n",
    "        builder=agent_builder,\n",
    "        environment_factory=lambda _: helpers.make_environment(suite, task),\n",
    "        network_factory=network_factory,\n",
    "        seed=SEED.value,\n",
    "        max_num_actor_steps=NUM_STEPS.value,\n",
    "    )\n",
    "\n",
    "\n",
    "def main(_):\n",
    "    config = build_experiment_config()\n",
    "    if RUN_DISTRIBUTED.value:\n",
    "        program = experiments.make_distributed_experiment(\n",
    "            experiment=config, num_actors=4\n",
    "        )\n",
    "        lp.launch(program, xm_resources=lp_utils.make_xm_docker_resources(program))\n",
    "    else:\n",
    "        experiments.run_experiment(\n",
    "            experiment=config,\n",
    "            eval_every=EVAL_EVERY.value,\n",
    "            num_eval_episodes=EVAL_EPISODES.value,\n",
    "        )\n",
    "\n",
    "\n",
    "if __name__ == \"__main__\":\n",
    "    app.run(main)"
   ]
  }
 ],
 "metadata": {
  "kernelspec": {
   "display_name": "stable-baselines3-contrib",
   "language": "python",
   "name": "python3"
  },
  "language_info": {
   "codemirror_mode": {
    "name": "ipython",
    "version": 3
   },
   "file_extension": ".py",
   "mimetype": "text/x-python",
   "name": "python",
   "nbconvert_exporter": "python",
   "pygments_lexer": "ipython3",
   "version": "3.9.16"
  },
  "orig_nbformat": 4
 },
 "nbformat": 4,
 "nbformat_minor": 2
}
